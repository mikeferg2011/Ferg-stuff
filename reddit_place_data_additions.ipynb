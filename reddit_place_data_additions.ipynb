{
 "cells": [
  {
   "cell_type": "markdown",
   "metadata": {},
   "source": [
    "# Color Mapping\n",
    "\n",
    "| color_id | hex     | color_name  |\n",
    "|----------|---------|-------------|\n",
    "| 0        | #FFFFFF | white       |\n",
    "| 1        | #E4E4E4 | light grey  |\n",
    "| 2        | #888888 | grey        |\n",
    "| 3        | #222222 | black       |\n",
    "| 4        | #FFA7D1 | light pink  |\n",
    "| 5        | #E50000 | red         |\n",
    "| 6        | #E59500 | orange      |\n",
    "| 7        | #A06A42 | brown       |\n",
    "| 8        | #E5D900 | yellow      |\n",
    "| 9        | #94E044 | light green |\n",
    "| 10       | #02BE01 | green       |\n",
    "| 11       | #00E5F0 | light blue  |\n",
    "| 12       | #0083C7 | navy blue   |\n",
    "| 13       | #0000EA | blue        |\n",
    "| 14       | #E04AFF | pink        |\n",
    "| 15       | #820080 | purple      |"
   ]
  },
  {
   "cell_type": "code",
   "execution_count": 26,
   "metadata": {
    "collapsed": true
   },
   "outputs": [],
   "source": [
    "def colorMap(a):\n",
    "    hex = ''\n",
    "    color_name = ''\n",
    "    if a == 0:\n",
    "        hex = '#FFFFFF'\n",
    "        color_name = 'white'\n",
    "    elif a == 1:\n",
    "        hex = '#E4E4E4'\n",
    "        color_name = 'light grey'\n",
    "    elif a == 2:\n",
    "        hex = '#888888'\n",
    "        color_name = 'grey'\n",
    "    elif a == 3:\n",
    "        hex = '#222222'\n",
    "        color_name = 'black'\n",
    "    elif a == 4:\n",
    "        hex = '#FFA7D1'\n",
    "        color_name = 'light pink'\n",
    "    elif a == 5:\n",
    "        hex = '#E50000'\n",
    "        color_name = 'red'\n",
    "    elif a == 6:\n",
    "        hex = '#E59500'\n",
    "        color_name = 'orange'\n",
    "    elif a == 7:\n",
    "        hex = '#A06A42'\n",
    "        color_name = 'brown'\n",
    "    elif a == 8:\n",
    "        hex = '#E5D900'\n",
    "        color_name = 'yellow'\n",
    "    elif a == 9:\n",
    "        hex = '#94E044'\n",
    "        color_name = 'light green'\n",
    "    elif a == 10:\n",
    "        hex = '#02BE01'\n",
    "        color_name = 'green'\n",
    "    elif a == 11:\n",
    "        hex = '#00E5F0'\n",
    "        color_name = 'light blue'\n",
    "    elif a == 12:\n",
    "        hex = '#0083C7'\n",
    "        color_name = 'navy blue'\n",
    "    elif a == 13:\n",
    "        hex = '#0000EA'\n",
    "        color_name = 'blue'\n",
    "    elif a == 14:\n",
    "        hex = '#E04AFF'\n",
    "        color_name = 'pink'\n",
    "    elif a == 15:\n",
    "        hex = '#820080'\n",
    "        color_name = 'purple'\n",
    "    return hex, color_name"
   ]
  },
  {
   "cell_type": "code",
   "execution_count": 37,
   "metadata": {
    "collapsed": false
   },
   "outputs": [
    {
     "name": "stdout",
     "output_type": "stream",
     "text": [
      "1491167838000,c2Md9m4QckH8M+lhNh9btgoiFDk=,326,258,0\n",
      "['1491167838000', 'c2Md9m4QckH8M+lhNh9btgoiFDk=', '326', '258', '0']\n",
      "['1491167838000', 'c2Md9m4QckH8M+lhNh9btgoiFDk=', '326', '258', '0', '2017-04-02 14:17:18']\n",
      "['1491167838000', 'c2Md9m4QckH8M+lhNh9btgoiFDk=', '326', '258', '0', '2017-04-02 14:17:18', '#FFFFFF']\n",
      "['1491167838000', 'c2Md9m4QckH8M+lhNh9btgoiFDk=', '326', '258', '0', '2017-04-02 14:17:18', '#FFFFFF', 'white']\n",
      "1491167838000,c2Md9m4QckH8M+lhNh9btgoiFDk=,326,258,0,2017-04-02 14:17:18,#FFFFFF,white\n"
     ]
    }
   ],
   "source": [
    "test = '1491167838000,c2Md9m4QckH8M+lhNh9btgoiFDk=,326,258,0'\n",
    "print test\n",
    "test1 = test.split(',')\n",
    "print test1\n",
    "test1.append(time.strftime('%Y-%m-%d %H:%M:%S', time.localtime(int(test1[0])/1000.0)))\n",
    "print test1\n",
    "test1.append(colorMap(int(test1[4]))[0])\n",
    "print test1\n",
    "test1.append(colorMap(int(test1[4]))[1])\n",
    "print test1\n",
    "print ','.join(test1)"
   ]
  },
  {
   "cell_type": "code",
   "execution_count": 39,
   "metadata": {
    "collapsed": true
   },
   "outputs": [],
   "source": [
    "count = 0\n",
    "with open('D:/Documents/tile_placements.csv') as a, open('D:/Documents/tile_placements_adj.csv', 'w') as b:\n",
    "    for line in a:\n",
    "        line = line.rstrip()\n",
    "        split_line = line.split(',')\n",
    "        if count == 0:\n",
    "            split_line.append('datetime')\n",
    "            split_line.append('hex')\n",
    "            split_line.append('color_name')\n",
    "        else:\n",
    "            split_line.append(time.strftime('%Y-%m-%d %H:%M:%S', time.localtime(int(split_line[0])/1000.0)))\n",
    "            split_line.append(colorMap(int(split_line[4]))[0])\n",
    "            split_line.append(colorMap(int(split_line[4]))[1])\n",
    "        new_line = ','.join(split_line)\n",
    "        count+=1\n",
    "        b.write(','.join(split_line)+'\\n')"
   ]
  }
 ],
 "metadata": {
  "kernelspec": {
   "display_name": "Python 2",
   "language": "python",
   "name": "python2"
  },
  "language_info": {
   "codemirror_mode": {
    "name": "ipython",
    "version": 2
   },
   "file_extension": ".py",
   "mimetype": "text/x-python",
   "name": "python",
   "nbconvert_exporter": "python",
   "pygments_lexer": "ipython2",
   "version": "2.7.13"
  }
 },
 "nbformat": 4,
 "nbformat_minor": 2
}
