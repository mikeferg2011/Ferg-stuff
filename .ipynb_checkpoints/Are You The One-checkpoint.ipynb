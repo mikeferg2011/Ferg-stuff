{
 "cells": [
  {
   "cell_type": "code",
   "execution_count": null,
   "metadata": {
    "collapsed": true
   },
   "outputs": [],
   "source": [
    "import numpy as np\n",
    "import pandas as pd\n",
    "import datetime"
   ]
  },
  {
   "cell_type": "code",
   "execution_count": null,
   "metadata": {
    "collapsed": false
   },
   "outputs": [],
   "source": [
    "men = {0:'Andre',\n",
    "      1:'Derrick',\n",
    "      2:'Edward',\n",
    "      3:'Hayden',\n",
    "      4:'Jaylen',\n",
    "      5:'Joey',\n",
    "      6:'Michael',\n",
    "      7:'Mike',\n",
    "      8:'Osvaldo',\n",
    "      9:'Ozzy',\n",
    "      10:'Tyler'\n",
    "      }\n",
    "\n",
    "women = {0:'Alicia',\n",
    "        1:'Carolina',\n",
    "        2:'Cas',\n",
    "        3:'Gianna',\n",
    "        4:'Hannah',\n",
    "        5:'Kam',\n",
    "        6:'Kari',\n",
    "        7:'Kathryn',\n",
    "        8:'Shannon',\n",
    "        9:'Taylor',\n",
    "        10:'Tyranny'\n",
    "        }"
   ]
  },
  {
   "cell_type": "code",
   "execution_count": null,
   "metadata": {
    "collapsed": false
   },
   "outputs": [],
   "source": [
    "#weekly pairs\n",
    "week1 = np.zeros((11,11))\n",
    "week1[0][0] = 1\n",
    "week1[1][7] = 1\n",
    "week1[2][5] = 1\n",
    "week1[3][8] = 1\n",
    "week1[4][2] = 1\n",
    "week1[5][1] = 1\n",
    "week1[6][4] = 1\n",
    "week1[7][6] = 1\n",
    "week1[8][10] = 1\n",
    "week1[9][3] = 1\n",
    "week1[10][9] = 1\n",
    "print week1"
   ]
  },
  {
   "cell_type": "code",
   "execution_count": null,
   "metadata": {
    "collapsed": false
   },
   "outputs": [],
   "source": [
    "print datetime.datetime.now()\n",
    "arrays = []\n",
    "counter = 0\n",
    "eye = np.eye(11)\n",
    "for a in range(len(eye)):\n",
    "    matrix = np.zeros((11,11))\n",
    "    matrix[0] = eye[a]\n",
    "    eye_a = np.delete(eye, a, 0)\n",
    "    for b in range(len(eye_a)):\n",
    "        #print a,b,datetime.datetime.now()\n",
    "        matrix[1] = eye_a[b]\n",
    "        eye_b = np.delete(eye_a, b, 0)\n",
    "        for c in range(len(eye_b)):\n",
    "            matrix[2] = eye_b[c]\n",
    "            eye_c = np.delete(eye_b, c, 0)\n",
    "            for d in range(len(eye_c)):\n",
    "                matrix[3] = eye_c[d]\n",
    "                eye_d = np.delete(eye_c, d, 0)\n",
    "                for e in range(len(eye_d)):\n",
    "                    matrix[4] = eye_d[e]\n",
    "                    eye_e = np.delete(eye_d, e, 0)\n",
    "                    for f in range(len(eye_e)):\n",
    "                        matrix[5] = eye_e[f]\n",
    "                        eye_f = np.delete(eye_e, f, 0)\n",
    "                        for g in range(len(eye_f)):\n",
    "                            matrix[6]= eye_f[g]\n",
    "                            eye_g = np.delete(eye_f, g, 0)\n",
    "                            for h in range(len(eye_g)):\n",
    "                                matrix[7] = eye_g[h]\n",
    "                                eye_h = np.delete(eye_g, h, 0)\n",
    "                                for i in range(len(eye_h)):\n",
    "                                    matrix[8] = eye_h[i]\n",
    "                                    eye_i = np.delete(eye_h, i, 0)\n",
    "                                    for j in range(len(eye_i)):\n",
    "                                        matrix[9] = eye_i[j]\n",
    "                                        eye_j = np.delete(eye_i, j, 0)\n",
    "                                        matrix[10] = eye_j[0]\n",
    "                                        counter+=1\n",
    "                                        #rules for adding to list\n",
    "                                        if (matrix[3][3] == 0\n",
    "                                        and sum(sum(matrix*week1)) == 2  ):\n",
    "                                            arrays.append(matrix.copy())\n",
    "print \"total: \"+str(counter)\n",
    "print \"remaining: \"+str(len(arrays))\n",
    "prob = sum(arrays)/len(arrays)\n",
    "prob = pd.DataFrame(prob, index=men.values(), columns=women.values())\n",
    "print prob\n",
    "prob.to_csv('are_you_the_one.csv', index=True, header=True, sep=',')\n",
    "print datetime.datetime.now()"
   ]
  }
 ],
 "metadata": {
  "anaconda-cloud": {},
  "kernelspec": {
   "display_name": "Python [Root]",
   "language": "python",
   "name": "Python [Root]"
  },
  "language_info": {
   "codemirror_mode": {
    "name": "ipython",
    "version": 2
   },
   "file_extension": ".py",
   "mimetype": "text/x-python",
   "name": "python",
   "nbconvert_exporter": "python",
   "pygments_lexer": "ipython2",
   "version": "2.7.12"
  }
 },
 "nbformat": 4,
 "nbformat_minor": 0
}
