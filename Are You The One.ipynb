{
 "cells": [
  {
   "cell_type": "code",
   "execution_count": null,
   "metadata": {
    "collapsed": true
   },
   "outputs": [],
   "source": [
    "import numpy as np\n",
    "import datetime"
   ]
  },
  {
   "cell_type": "code",
   "execution_count": null,
   "metadata": {
    "collapsed": false
   },
   "outputs": [],
   "source": [
    "print datetime.datetime.now()\n",
    "arrays = []\n",
    "week1 = np.eye(11)\n",
    "counter = 0\n",
    "eye = np.eye(11,)\n",
    "for a in range(len(eye)):\n",
    "    matrix = np.zeros((11,11))\n",
    "    matrix[0] = eye[a]\n",
    "    eye_a = np.delete(eye, a, 0)\n",
    "    for b in range(len(eye_a)):\n",
    "        print a,b,datetime.datetime.now()\n",
    "        matrix[1] = eye_a[b]\n",
    "        eye_b = np.delete(eye_a, b, 0)\n",
    "        for c in range(len(eye_b)):\n",
    "            matrix[2] = eye_b[c]\n",
    "            eye_c = np.delete(eye_b, c, 0)\n",
    "            for d in range(len(eye_c)):\n",
    "                matrix[3] = eye_c[d]\n",
    "                eye_d = np.delete(eye_c, d, 0)\n",
    "                for e in range(len(eye_d)):\n",
    "                    matrix[4] = eye_d[e]\n",
    "                    eye_e = np.delete(eye_d, e, 0)\n",
    "                    for f in range(len(eye_e)):\n",
    "                        matrix[5] = eye_e[f]\n",
    "                        eye_f = np.delete(eye_e, f, 0)\n",
    "                        for g in range(len(eye_f)):\n",
    "                            matrix[6]= eye_f[g]\n",
    "                            eye_g = np.delete(eye_f, g, 0)\n",
    "                            for h in range(len(eye_g)):\n",
    "                                matrix[7] = eye_g[h]\n",
    "                                eye_h = np.delete(eye_g, h, 0)\n",
    "                                for i in range(len(eye_h)):\n",
    "                                    matrix[8] = eye_h[i]\n",
    "                                    eye_i = np.delete(eye_h, i, 0)\n",
    "                                    for j in range(len(eye_i)):\n",
    "                                        matrix[9] = eye_i[j]\n",
    "                                        eye_j = np.delete(eye_i, j, 0)\n",
    "                                        matrix[10] = eye_j[0]\n",
    "                                        counter+=1\n",
    "                                        #rules for adding to list\n",
    "                                        if (matrix[0][0] == 1\n",
    "                                        and matrix[1][1] == 0\n",
    "                                        and sum(sum(matrix*week1)) == 3):\n",
    "                                            arrays.append(matrix.copy())\n",
    "print counter\n",
    "print len(arrays)\n",
    "print sum(arrays)/len(arrays)\n",
    "print datetime.datetime.now()"
   ]
  },
  {
   "cell_type": "code",
   "execution_count": null,
   "metadata": {
    "collapsed": false
   },
   "outputs": [],
   "source": [
    "a = np.eye(11)\n",
    "print a.size\n",
    "b = np.array([[1, 2], [3, 4], [5, 6]])\n",
    "print b\n",
    "print b[:,0].sum()\n",
    "arrays = []\n",
    "arrays.append(a)\n",
    "arrays.append(b)\n",
    "print arrays\n",
    "b = np.delete(b,2,0)\n",
    "print b"
   ]
  },
  {
   "cell_type": "code",
   "execution_count": null,
   "metadata": {
    "collapsed": false
   },
   "outputs": [],
   "source": [
    "print datetime.datetime.now()\n",
    "arrays = []\n",
    "eye = np.eye(11,dtype=int)\n",
    "print len(eye)\n",
    "for a in range(11):\n",
    "    matrix = np.zeros((11,11))\n",
    "    matrix[0] = eye[a]\n",
    "    eye_a = np.delete(eye, a, 0)\n",
    "    for b in range(10):\n",
    "        #print a,b,datetime.datetime.now()\n",
    "        matrix[1] = eye_a[b]\n",
    "        eye_b = np.delete(eye_a, b, 0)\n",
    "        for c in range(9):\n",
    "            matrix[2] = eye_b[c]\n",
    "            eye_c = np.delete(eye_b, c, 0)\n",
    "            arrays.append(matrix.copy())\n",
    "print matrix[0][10]\n",
    "#if not(matrix[0][0] == 1):\n",
    "    #arrays.append(matrix)\n",
    "print arrays[0]\n",
    "print arrays[1]\n",
    "print len(arrays)\n",
    "print sum(arrays)/len(arrays)\n",
    "print arrays[0]*arrays[1]"
   ]
  },
  {
   "cell_type": "code",
   "execution_count": null,
   "metadata": {
    "collapsed": false
   },
   "outputs": [],
   "source": [
    "array1 = np.array([[1,0,0],[0,1,0],[0,0,1]])\n",
    "array2 = np.array([[0,1,0],[1,0,0],[0,0,1]])\n",
    "print array1\n",
    "print array2\n",
    "comb = array1*array2\n",
    "print comb\n",
    "print sum(sum(comb))\n",
    "#print array2\n",
    "week1 = np.eye(11)\n",
    "print week1\n",
    "print matrix\n",
    "print sum(sum(matrix*week1))\n"
   ]
  }
 ],
 "metadata": {
  "anaconda-cloud": {},
  "kernelspec": {
   "display_name": "Python [default]",
   "language": "python",
   "name": "python2"
  },
  "language_info": {
   "codemirror_mode": {
    "name": "ipython",
    "version": 2
   },
   "file_extension": ".py",
   "mimetype": "text/x-python",
   "name": "python",
   "nbconvert_exporter": "python",
   "pygments_lexer": "ipython2",
   "version": "2.7.12"
  }
 },
 "nbformat": 4,
 "nbformat_minor": 1
}
